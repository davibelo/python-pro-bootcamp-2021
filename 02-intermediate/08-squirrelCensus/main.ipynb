{
 "metadata": {
  "language_info": {
   "codemirror_mode": {
    "name": "ipython",
    "version": 3
   },
   "file_extension": ".py",
   "mimetype": "text/x-python",
   "name": "python",
   "nbconvert_exporter": "python",
   "pygments_lexer": "ipython3",
   "version": "3.8.5"
  },
  "orig_nbformat": 2,
  "kernelspec": {
   "name": "pythonjvsc74a57bd09982b999683e5b8b85f50be4b2ca46d48327f1e9d3cba0af07442e44038c42a4",
   "display_name": "Python 3.8.5  ('.venv': venv)"
  },
  "metadata": {
   "interpreter": {
    "hash": "9982b999683e5b8b85f50be4b2ca46d48327f1e9d3cba0af07442e44038c42a4"
   }
  }
 },
 "nbformat": 4,
 "nbformat_minor": 2,
 "cells": [
  {
   "cell_type": "code",
   "execution_count": 1,
   "metadata": {},
   "outputs": [],
   "source": [
    "import pandas as pd\n",
    "df = pd.read_csv(\"/home/davibelo/Desktop/python-pro-bootcamp-2021/02-intermediate/08-squirrelCensus/2018_Central_Park_Squirrel_Census_-_Squirrel_Data.csv\")"
   ]
  },
  {
   "cell_type": "code",
   "execution_count": 2,
   "metadata": {},
   "outputs": [
    {
     "output_type": "stream",
     "name": "stdout",
     "text": [
      "X\nY\nUnique Squirrel ID\nHectare\nShift\nDate\nHectare Squirrel Number\nAge\nPrimary Fur Color\nHighlight Fur Color\nCombination of Primary and Highlight Color\nColor notes\nLocation\nAbove Ground Sighter Measurement\nSpecific Location\nRunning\nChasing\nClimbing\nEating\nForaging\nOther Activities\nKuks\nQuaas\nMoans\nTail flags\nTail twitches\nApproaches\nIndifferent\nRuns from\nOther Interactions\nLat/Long\n"
     ]
    }
   ],
   "source": [
    "# checking columns of data      \n",
    "for col in df.columns:\n",
    "    print(col)"
   ]
  },
  {
   "cell_type": "code",
   "execution_count": 3,
   "metadata": {},
   "outputs": [
    {
     "output_type": "execute_result",
     "data": {
      "text/plain": [
       "array([nan, 'Gray', 'Cinnamon', 'Black'], dtype=object)"
      ]
     },
     "metadata": {},
     "execution_count": 3
    }
   ],
   "source": [
    "# checking unique colors values\n",
    "df[\"Primary Fur Color\"].unique()"
   ]
  },
  {
   "cell_type": "code",
   "execution_count": 4,
   "metadata": {},
   "outputs": [
    {
     "output_type": "stream",
     "name": "stdout",
     "text": [
      "Gray        2473\nCinnamon     392\nBlack        103\nName: Primary Fur Color, dtype: int64\n"
     ]
    }
   ],
   "source": [
    "# counting unique colors\n",
    "df_color = df[\"Primary Fur Color\"].value_counts()\n",
    "print(df_color)\n",
    "\n",
    "# exporting to csv\n",
    "df_color.to_csv(\"colors_count_0.csv\")"
   ]
  },
  {
   "cell_type": "code",
   "execution_count": 5,
   "metadata": {},
   "outputs": [
    {
     "output_type": "stream",
     "name": "stdout",
     "text": [
      "  Fur Color  Count\n0      Gray   2473\n1  Cinnamon    392\n2     Black    103\n"
     ]
    }
   ],
   "source": [
    "# counting squirrels colors not using value count method\n",
    "gray_squirrels_count = len(df[df[\"Primary Fur Color\"] == \"Gray\"])\n",
    "cinnamon_squirrels_count = len(df[df[\"Primary Fur Color\"] == \"Cinnamon\"])\n",
    "black_squirrels_count = len(df[df[\"Primary Fur Color\"] == \"Black\"])\n",
    "\n",
    "data_dict = {\n",
    "    \"Fur Color\":[\"Gray\", \"Cinnamon\", \"Black\"],\n",
    "    \"Count\": [gray_squirrels_count, cinnamon_squirrels_count, black_squirrels_count]\n",
    "}\n",
    "\n",
    "df_colors = pd.DataFrame(data_dict)\n",
    "print(df_colors)\n",
    "\n",
    "df_colors.to_csv(\"colors_count_1.csv\")"
   ]
  }
 ]
}