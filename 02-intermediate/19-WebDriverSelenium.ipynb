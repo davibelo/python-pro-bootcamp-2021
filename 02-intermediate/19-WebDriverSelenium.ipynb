{
 "metadata": {
  "language_info": {
   "codemirror_mode": {
    "name": "ipython",
    "version": 3
   },
   "file_extension": ".py",
   "mimetype": "text/x-python",
   "name": "python",
   "nbconvert_exporter": "python",
   "pygments_lexer": "ipython3",
   "version": "3.8.5"
  },
  "orig_nbformat": 2,
  "kernelspec": {
   "name": "pythonjvsc74a57bd09982b999683e5b8b85f50be4b2ca46d48327f1e9d3cba0af07442e44038c42a4",
   "display_name": "Python 3.8.5  ('.venv': venv)"
  },
  "metadata": {
   "interpreter": {
    "hash": "9982b999683e5b8b85f50be4b2ca46d48327f1e9d3cba0af07442e44038c42a4"
   }
  }
 },
 "nbformat": 4,
 "nbformat_minor": 2,
 "cells": [
  {
   "cell_type": "code",
   "execution_count": 4,
   "metadata": {},
   "outputs": [],
   "source": [
    "# selenium uses browsers drivers, in this case, we are using chrome\n",
    "from selenium import webdriver\n",
    "chrome_driver_path = \"/home/davibelo/chromedriver\""
   ]
  },
  {
   "cell_type": "code",
   "execution_count": 6,
   "metadata": {},
   "outputs": [
    {
     "output_type": "stream",
     "name": "stdout",
     "text": [
      "R$262,12\n"
     ]
    }
   ],
   "source": [
    "# using selenium for webscraping is easier than beautiful soup, because:\n",
    "# 1. it is using a real browser, so it already pass the headers correctly\n",
    "# 2. it also works with java rendered websites (JSX, React, etc)\n",
    "\n",
    "driver = webdriver.Chrome(executable_path=chrome_driver_path)\n",
    "\n",
    "driver.get(\"https://www.amazon.com.br/NieR-Replicant-ver-1-22474487139-PlayStation/dp/B08XXJ4ZGP/ref=pd_rhf_gw_s_pd_crcd_28/143-3317859-4399827?pd_rd_w=Vw1jM&pf_rd_p=49e26231-6534-4f40-8a6b-8528d27191f2&pf_rd_r=EBMRF9Q22KQ0EB2J87B8&pd_rd_r=2a285224-1df7-4c9f-83a5-40c4ce41ba51&pd_rd_wg=ESx6v&pd_rd_i=B08XXJ4ZGP&psc=1\")\n",
    "\n",
    "price = driver.find_element_by_id(\"priceblock_ourprice\")\n",
    "print(price.text)\n",
    "\n",
    "driver.quit()"
   ]
  },
  {
   "cell_type": "code",
   "execution_count": 16,
   "metadata": {},
   "outputs": [
    {
     "output_type": "stream",
     "name": "stdout",
     "text": [
      "Search\n{'height': 72, 'width': 255}\ndocs.python.org\n"
     ]
    }
   ],
   "source": [
    "# diferent methods to find HTML elements\n",
    "driver = webdriver.Chrome(executable_path=chrome_driver_path)\n",
    "driver.get(\"http://python.org/\")\n",
    "\n",
    "search_bar = driver.find_element_by_name(\"q\")\n",
    "print(search_bar.get_attribute(\"placeholder\"))\n",
    "\n",
    "logo = driver.find_elements_by_class_name(\"python-logo\")\n",
    "print(logo[0].size)\n",
    "\n",
    "doc_link = driver.find_element_by_css_selector(\".documentation-widget a\")\n",
    "print(doc_link.text)\n",
    "\n",
    "\n",
    "\n",
    "driver.quit()"
   ]
  },
  {
   "cell_type": "code",
   "execution_count": null,
   "metadata": {},
   "outputs": [],
   "source": []
  }
 ]
}