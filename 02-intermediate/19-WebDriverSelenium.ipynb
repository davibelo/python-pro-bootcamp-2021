{
 "metadata": {
  "language_info": {
   "codemirror_mode": {
    "name": "ipython",
    "version": 3
   },
   "file_extension": ".py",
   "mimetype": "text/x-python",
   "name": "python",
   "nbconvert_exporter": "python",
   "pygments_lexer": "ipython3",
   "version": "3.8.5"
  },
  "orig_nbformat": 2,
  "kernelspec": {
   "name": "pythonjvsc74a57bd09982b999683e5b8b85f50be4b2ca46d48327f1e9d3cba0af07442e44038c42a4",
   "display_name": "Python 3.8.5  ('.venv': venv)"
  },
  "metadata": {
   "interpreter": {
    "hash": "9982b999683e5b8b85f50be4b2ca46d48327f1e9d3cba0af07442e44038c42a4"
   }
  }
 },
 "nbformat": 4,
 "nbformat_minor": 2,
 "cells": [
  {
   "cell_type": "code",
   "execution_count": 1,
   "metadata": {},
   "outputs": [],
   "source": [
    "# https://selenium-python.readthedocs.io/\n",
    "# selenium uses browsers drivers, in this case, we are using chrome\n",
    "from selenium import webdriver\n",
    "chrome_driver_path = \"/home/davibelo/chromedriver\""
   ]
  },
  {
   "cell_type": "code",
   "execution_count": 2,
   "metadata": {},
   "outputs": [
    {
     "output_type": "stream",
     "name": "stdout",
     "text": [
      "R$220,97\n"
     ]
    }
   ],
   "source": [
    "# using selenium for webscraping is easier than beautiful soup, because:\n",
    "# 1. it is using a real browser, so it already pass the headers correctly\n",
    "# 2. it also works with java rendered websites (JSX, React, etc)\n",
    "\n",
    "driver = webdriver.Chrome(executable_path=chrome_driver_path)\n",
    "\n",
    "driver.get(\"https://www.amazon.com.br/NieR-Replicant-ver-1-22474487139-PlayStation/dp/B08XXJ4ZGP/ref=pd_rhf_gw_s_pd_crcd_28/143-3317859-4399827?pd_rd_w=Vw1jM&pf_rd_p=49e26231-6534-4f40-8a6b-8528d27191f2&pf_rd_r=EBMRF9Q22KQ0EB2J87B8&pd_rd_r=2a285224-1df7-4c9f-83a5-40c4ce41ba51&pd_rd_wg=ESx6v&pd_rd_i=B08XXJ4ZGP&psc=1\")\n",
    "\n",
    "price = driver.find_element_by_id(\"priceblock_ourprice\")\n",
    "print(price.text)\n",
    "\n",
    "driver.quit()"
   ]
  },
  {
   "cell_type": "code",
   "execution_count": 7,
   "metadata": {},
   "outputs": [
    {
     "output_type": "stream",
     "name": "stdout",
     "text": [
      "Search\n{'height': 72, 'width': 255}\ndocs.python.org\nhttps://github.com/python/pythondotorg/issues\n"
     ]
    }
   ],
   "source": [
    "driver = webdriver.Chrome(executable_path=chrome_driver_path)\n",
    "driver.get(\"http://python.org/\")\n",
    "\n",
    "# diferent methods to find HTML elements\n",
    "search_bar = driver.find_element_by_name(\"q\")\n",
    "print(search_bar.get_attribute(\"placeholder\"))\n",
    "\n",
    "logo = driver.find_element_by_class_name(\"python-logo\")\n",
    "print(logo.size)\n",
    "\n",
    "doc_link = driver.find_element_by_css_selector(\".documentation-widget a\")\n",
    "print(doc_link.text)\n",
    "\n",
    "# xpath can be obtained clicking with mouse right button\n",
    "# if xpath contains \"\", use '' to involve xpath\n",
    "bug_link = driver.find_element_by_xpath('//*[@id=\"site-map\"]/div[2]/div/ul/li[3]/a')\n",
    "print(bug_link.get_attribute(\"href\"))\n",
    "\n",
    "# there are also methods to find multiple elements\n",
    "# find_elements_by_...\n",
    "\n",
    "driver.quit()"
   ]
  },
  {
   "cell_type": "code",
   "execution_count": 21,
   "metadata": {},
   "outputs": [
    {
     "output_type": "stream",
     "name": "stdout",
     "text": [
      "{0: {'time': '2021-06-02', 'name': 'DjangoCon Europe 2021'}, 1: {'time': '2021-06-18', 'name': 'PyCon Namibia 2021'}, 2: {'time': '2021-07-12', 'name': 'SciPy 2021'}, 3: {'time': '2021-07-26', 'name': 'EuroPython 2021'}, 4: {'time': '2021-07-31', 'name': 'PyOhio 2021'}}\n"
     ]
    }
   ],
   "source": [
    "# getting upcoming events on python website\n",
    "driver = webdriver.Chrome(executable_path=chrome_driver_path)\n",
    "driver.maximize_window()\n",
    "driver.get(\"http://python.org/\")\n",
    "\n",
    "event_times = driver.find_elements_by_css_selector(\".event-widget time\")\n",
    "event_names = driver.find_elements_by_css_selector(\".event-widget li a\")\n",
    "\n",
    "events = {}\n",
    "for i in range(0,len(event_times)):\n",
    "    events[i] = {\n",
    "        \"time\": event_times[i].text,\n",
    "        \"name\": event_names[i].text\n",
    "    }\n",
    "print(events)\n",
    "\n",
    "driver.quit()"
   ]
  },
  {
   "cell_type": "code",
   "execution_count": 3,
   "metadata": {},
   "outputs": [],
   "source": [
    "# interacting with wikipedia website\n",
    "driver = webdriver.Chrome(executable_path=chrome_driver_path)\n",
    "driver.get(\"https://en.wikipedia.org/wiki/Main_Page\")\n",
    "\n",
    "# click example 1\n",
    "article_count = driver.find_element_by_css_selector(\"#articlecount a\")\n",
    "# article_count.click()\n",
    "\n",
    "# click example 2\n",
    "all_portals = driver.find_element_by_link_text(\"All portals\")\n",
    "all_portals.click()"
   ]
  },
  {
   "cell_type": "code",
   "execution_count": 5,
   "metadata": {},
   "outputs": [],
   "source": [
    "# interacting with wikipedia website\n",
    "driver = webdriver.Chrome(executable_path=chrome_driver_path)\n",
    "driver.get(\"https://en.wikipedia.org/wiki/Main_Page\")\n",
    "\n",
    "# typing example\n",
    "search = driver.find_element_by_name(\"search\")\n",
    "search.send_keys(\"Python\")\n",
    "\n",
    "# hitting a key\n",
    "from selenium.webdriver.common.keys import Keys\n",
    "search.send_keys(Keys.ENTER)"
   ]
  },
  {
   "cell_type": "code",
   "execution_count": 6,
   "metadata": {},
   "outputs": [],
   "source": [
    "# interacting with newsletter website\n",
    "driver = webdriver.Chrome(executable_path=chrome_driver_path)\n",
    "driver.get(\"http://secure-retreat-92358.herokuapp.com/\")\n",
    "\n",
    "# typing on forms\n",
    "first_name = driver.find_element_by_name(\"fName\")\n",
    "first_name.send_keys(\"Davi\")\n",
    "last_name = driver.find_element_by_name(\"lName\")\n",
    "last_name.send_keys(\"Belo\")\n",
    "email = driver.find_element_by_name(\"email\")\n",
    "email.send_keys(\"davibelo@gmail.com\")\n",
    "submit = driver.find_element_by_css_selector(\".form-signin button\")\n",
    "submit.click()\n"
   ]
  }
 ]
}