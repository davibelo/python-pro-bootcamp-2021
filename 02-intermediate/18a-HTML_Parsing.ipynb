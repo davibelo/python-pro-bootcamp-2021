{
 "metadata": {
  "language_info": {
   "codemirror_mode": {
    "name": "ipython",
    "version": 3
   },
   "file_extension": ".py",
   "mimetype": "text/x-python",
   "name": "python",
   "nbconvert_exporter": "python",
   "pygments_lexer": "ipython3",
   "version": "3.8.5"
  },
  "orig_nbformat": 2,
  "kernelspec": {
   "name": "python385jvsc74a57bd09982b999683e5b8b85f50be4b2ca46d48327f1e9d3cba0af07442e44038c42a4",
   "display_name": "Python 3.8.5 64-bit ('.venv')"
  }
 },
 "nbformat": 4,
 "nbformat_minor": 2,
 "cells": [
  {
   "cell_type": "code",
   "execution_count": 1,
   "metadata": {},
   "outputs": [],
   "source": [
    "import os\n",
    "from bs4 import BeautifulSoup\n",
    "# https://www.crummy.com/software/BeautifulSoup/\n",
    "# pip install beautifulsoup4"
   ]
  },
  {
   "cell_type": "code",
   "execution_count": 2,
   "metadata": {},
   "outputs": [
    {
     "output_type": "stream",
     "name": "stdout",
     "text": [
      "<!DOCTYPE html>\n<html>\n <head>\n  <meta charset=\"utf-8\"/>\n  <title>\n   Angela's Personal Site\n  </title>\n </head>\n <body>\n  <h1 class=\"heading\" id=\"name\">\n   Angela Yu\n  </h1>\n  <p>\n   <em>\n    Founder of\n    <strong>\n     <a href=\"https://www.appbrewery.co/\">\n      The App Brewery\n     </a>\n    </strong>\n    .\n   </em>\n  </p>\n  <p>\n   I am an iOS and Web Developer. I ❤️ coffee and motorcycles.\n  </p>\n  <hr/>\n  <h3 class=\"heading\">\n   Books and Teaching\n  </h3>\n  <ul>\n   <li>\n    The Complete iOS App Development Bootcamp\n   </li>\n   <li>\n    The Complete Web Development Bootcamp\n   </li>\n   <li>\n    100 Days of Code - The Complete Python Bootcamp\n   </li>\n  </ul>\n  <hr/>\n  <h3 class=\"heading\">\n   Other Pages\n  </h3>\n  <a href=\"https://angelabauer.github.io/cv/hobbies.html\">\n   My Hobbies\n  </a>\n  <a href=\"https://angelabauer.github.io/cv/contact-me.html\">\n   Contact Me\n  </a>\n </body>\n</html>\n"
     ]
    }
   ],
   "source": [
    "with open(\"/home/davibelo/Desktop/python-pro-bootcamp-2021/02-intermediate/18b-website.html\") as file:\n",
    "    contents = file.read()\n",
    "\n",
    "soup = BeautifulSoup(contents, \"html.parser\")\n",
    "\n",
    "# printing website\n",
    "print(soup.prettify())"
   ]
  },
  {
   "cell_type": "code",
   "execution_count": 3,
   "metadata": {},
   "outputs": [
    {
     "output_type": "stream",
     "name": "stdout",
     "text": [
      "<title>Angela's Personal Site</title>\nAngela's Personal Site\n<a href=\"https://www.appbrewery.co/\">The App Brewery</a>\n"
     ]
    }
   ],
   "source": [
    "# getting tags and tags information\n",
    "# if tags are unique, they can be accessed directly as below:\n",
    "print(soup.title)\n",
    "print(soup.title.string)\n",
    "print(soup.a)"
   ]
  },
  {
   "cell_type": "code",
   "execution_count": 4,
   "metadata": {},
   "outputs": [
    {
     "output_type": "stream",
     "name": "stdout",
     "text": [
      "[<a href=\"https://www.appbrewery.co/\">The App Brewery</a>, <a href=\"https://angelabauer.github.io/cv/hobbies.html\">My Hobbies</a>, <a href=\"https://angelabauer.github.io/cv/contact-me.html\">Contact Me</a>]\n"
     ]
    }
   ],
   "source": [
    "# using find_all method to locate all anchor tags\n",
    "all_anchor_tags = soup.find_all(\"a\")\n",
    "print(all_anchor_tags)"
   ]
  },
  {
   "cell_type": "code",
   "execution_count": 5,
   "metadata": {},
   "outputs": [
    {
     "output_type": "stream",
     "name": "stdout",
     "text": [
      "a\nThe App Brewery\nhttps://www.appbrewery.co/\na\nMy Hobbies\nhttps://angelabauer.github.io/cv/hobbies.html\na\nContact Me\nhttps://angelabauer.github.io/cv/contact-me.html\n"
     ]
    }
   ],
   "source": [
    "# using tag methods\n",
    "for tag in all_anchor_tags:\n",
    "    print(tag.name)\n",
    "    print(tag.getText())\n",
    "    print(tag.get(\"href\"))"
   ]
  },
  {
   "cell_type": "code",
   "execution_count": 6,
   "metadata": {},
   "outputs": [
    {
     "output_type": "stream",
     "name": "stdout",
     "text": [
      "h1\n<h1 class=\"heading\" id=\"name\">Angela Yu</h1>\nAngela Yu\n"
     ]
    }
   ],
   "source": [
    "# finding a tag with some id\n",
    "tag = soup.find(name=\"h1\", id=\"name\")\n",
    "print(tag.name)\n",
    "print(tag)\n",
    "print(tag.getText())"
   ]
  },
  {
   "cell_type": "code",
   "execution_count": 7,
   "metadata": {},
   "outputs": [
    {
     "output_type": "stream",
     "name": "stdout",
     "text": [
      "h3\n<h3 class=\"heading\">Books and Teaching</h3>\nBooks and Teaching\n"
     ]
    }
   ],
   "source": [
    "# finding a tag with some class\n",
    "tag = soup.find(name=\"h3\", class_=\"heading\")\n",
    "print(tag.name)\n",
    "print(tag)\n",
    "print(tag.getText())"
   ]
  },
  {
   "cell_type": "code",
   "execution_count": 8,
   "metadata": {},
   "outputs": [
    {
     "output_type": "stream",
     "name": "stdout",
     "text": [
      "https://www.appbrewery.co/\n<h1 class=\"heading\" id=\"name\">Angela Yu</h1>\nAngela Yu\n"
     ]
    }
   ],
   "source": [
    "# It is possible to use selectors (similar to CSS code):\n",
    "\n",
    "# select_one method selects the first element that match that criteria\n",
    "company_url = soup.select_one(selector=\"p a\")\n",
    "print(company_url.get(\"href\"))\n",
    "\n",
    "name = soup.select_one(selector=\"#name\")\n",
    "print(name)\n",
    "print(name.getText())"
   ]
  },
  {
   "cell_type": "code",
   "execution_count": 9,
   "metadata": {},
   "outputs": [
    {
     "output_type": "stream",
     "name": "stdout",
     "text": [
      "[<h1 class=\"heading\" id=\"name\">Angela Yu</h1>, <h3 class=\"heading\">Books and Teaching</h3>, <h3 class=\"heading\">Other Pages</h3>]\n"
     ]
    }
   ],
   "source": [
    "# select method return a list of elements that match that criteria\n",
    "headings = soup.select(\".heading\")\n",
    "print(headings)"
   ]
  }
 ]
}