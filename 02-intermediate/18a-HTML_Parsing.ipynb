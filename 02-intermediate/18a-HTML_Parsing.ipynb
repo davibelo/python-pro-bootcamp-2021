{
 "metadata": {
  "language_info": {
   "codemirror_mode": {
    "name": "ipython",
    "version": 3
   },
   "file_extension": ".py",
   "mimetype": "text/x-python",
   "name": "python",
   "nbconvert_exporter": "python",
   "pygments_lexer": "ipython3",
   "version": "3.8.5"
  },
  "orig_nbformat": 2,
  "kernelspec": {
   "name": "python385jvsc74a57bd044972297775b1067b41233a4249a02d723ef97233962089f857fff721ec4e725",
   "display_name": "Python 3.8.5 64-bit ('.venv': venv)",
   "language": "python"
  }
 },
 "nbformat": 4,
 "nbformat_minor": 2,
 "cells": [
  {
   "cell_type": "code",
   "execution_count": 1,
   "metadata": {},
   "outputs": [],
   "source": [
    "import os\n",
    "from bs4 import BeautifulSoup\n",
    "# https://www.crummy.com/software/BeautifulSoup/\n",
    "# pip install beautifulsoup4"
   ]
  },
  {
   "cell_type": "code",
   "execution_count": 2,
   "metadata": {},
   "outputs": [
    {
     "output_type": "stream",
     "name": "stdout",
     "text": [
      "<!DOCTYPE html>\n<html>\n <head>\n  <meta charset=\"utf-8\"/>\n  <title>\n   Angela's Personal Site\n  </title>\n </head>\n <body>\n  <h1 id=\"name\">\n   Angela Yu\n  </h1>\n  <p>\n   <em>\n    Founder of\n    <strong>\n     <a href=\"https://www.appbrewery.co/\">\n      The App Brewery\n     </a>\n    </strong>\n    .\n   </em>\n  </p>\n  <p>\n   I am an iOS and Web Developer. I ❤️ coffee and motorcycles.\n  </p>\n  <hr/>\n  <h3 class=\"heading\">\n   Books and Teaching\n  </h3>\n  <ul>\n   <li>\n    The Complete iOS App Development Bootcamp\n   </li>\n   <li>\n    The Complete Web Development Bootcamp\n   </li>\n   <li>\n    100 Days of Code - The Complete Python Bootcamp\n   </li>\n  </ul>\n  <hr/>\n  <h3 class=\"heading\">\n   Other Pages\n  </h3>\n  <a href=\"https://angelabauer.github.io/cv/hobbies.html\">\n   My Hobbies\n  </a>\n  <a href=\"https://angelabauer.github.io/cv/contact-me.html\">\n   Contact Me\n  </a>\n </body>\n</html>\n"
     ]
    }
   ],
   "source": [
    "with open(\"/home/davibelo/Desktop/python-pro-bootcamp-2021/02-intermediate/18b-website.html\") as file:\n",
    "    contents = file.read()\n",
    "\n",
    "soup = BeautifulSoup(contents, \"html.parser\")\n",
    "\n",
    "# printing website\n",
    "print(soup.prettify())"
   ]
  },
  {
   "cell_type": "code",
   "execution_count": 3,
   "metadata": {},
   "outputs": [
    {
     "output_type": "stream",
     "name": "stdout",
     "text": [
      "<title>Angela's Personal Site</title>\nAngela's Personal Site\n<a href=\"https://www.appbrewery.co/\">The App Brewery</a>\n"
     ]
    }
   ],
   "source": [
    "# getting tags and tags information\n",
    "print(soup.title)\n",
    "print(soup.title.string)\n",
    "print(soup.a)"
   ]
  },
  {
   "cell_type": "code",
   "execution_count": 4,
   "metadata": {},
   "outputs": [
    {
     "output_type": "stream",
     "name": "stdout",
     "text": [
      "[<a href=\"https://www.appbrewery.co/\">The App Brewery</a>, <a href=\"https://angelabauer.github.io/cv/hobbies.html\">My Hobbies</a>, <a href=\"https://angelabauer.github.io/cv/contact-me.html\">Contact Me</a>]\n"
     ]
    }
   ],
   "source": [
    "# finding information on website\n",
    "all_anchor_tags = soup.find_all(name=\"a\")\n",
    "print(all_anchor_tags)"
   ]
  },
  {
   "cell_type": "code",
   "execution_count": 5,
   "metadata": {},
   "outputs": [
    {
     "output_type": "stream",
     "name": "stdout",
     "text": [
      "The App Brewery\nhttps://www.appbrewery.co/\nMy Hobbies\nhttps://angelabauer.github.io/cv/hobbies.html\nContact Me\nhttps://angelabauer.github.io/cv/contact-me.html\n"
     ]
    }
   ],
   "source": [
    "# using tag methods\n",
    "for tag in all_anchor_tags:\n",
    "    print(tag.getText())\n",
    "    print(tag.get(\"href\"))"
   ]
  },
  {
   "cell_type": "code",
   "execution_count": 8,
   "metadata": {},
   "outputs": [
    {
     "output_type": "stream",
     "name": "stdout",
     "text": [
      "<h1 id=\"name\">Angela Yu</h1>\n"
     ]
    }
   ],
   "source": [
    "# finding a unique tag \n",
    "heading = soup.find(name=\"h1\", id=\"name\")\n",
    "print(heading)"
   ]
  }
 ]
}